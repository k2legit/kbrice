{
  "nbformat": 4,
  "nbformat_minor": 0,
  "metadata": {
    "colab": {
      "provenance": [],
      "authorship_tag": "ABX9TyNgH4j1ERvU7EQbnXuHq+yu",
      "include_colab_link": true
    },
    "kernelspec": {
      "name": "python3",
      "display_name": "Python 3"
    },
    "language_info": {
      "name": "python"
    }
  },
  "cells": [
    {
      "cell_type": "markdown",
      "metadata": {
        "id": "view-in-github",
        "colab_type": "text"
      },
      "source": [
        "<a href=\"https://colab.research.google.com/github/k2legit/kbrice/blob/main/Lab%208.ipynb\" target=\"_parent\"><img src=\"https://colab.research.google.com/assets/colab-badge.svg\" alt=\"Open In Colab\"/></a>"
      ]
    },
    {
      "cell_type": "code",
      "execution_count": null,
      "metadata": {
        "id": "LGFOqe9RQlrK"
      },
      "outputs": [],
      "source": []
    },
    {
      "cell_type": "markdown",
      "source": [
        "** The first Mark Down Cell**\n",
        "# My name is Kallen Brice\n",
        "\n",
        "Computer science Department\n",
        "* Computer Literacy\n",
        "* Python Programming\n",
        "\n",
        "| Rank | Languages |\n",
        "|:-----:|-----------|\n",
        "|     1| Javascript|\n",
        "|     2| Python    |\n",
        "|     3| SQL    \n",
        "\n",
        "<picture>\n",
        " <img alt=\"YOUR-ALT-TEXT\" src=\"https://www.si.com/.image/ar_4:3%2Cc_fill%2Ccs_srgb%2Cfl_progressive%2Cq_auto:good%2Cw_1200/MTk1NDI0OTk2NjIzOTE4MTAz/ncaa-basketball.jpg\">\n",
        "</picture>\n",
        "\n",
        "[Go to DVC] (https://dvc.edu)\n",
        "\n"
      ],
      "metadata": {
        "id": "O78MC5WOQmex"
      }
    }
  ]
}